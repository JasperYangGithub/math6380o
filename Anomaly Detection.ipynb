{
 "cells": [
  {
   "cell_type": "code",
   "execution_count": 1,
   "metadata": {},
   "outputs": [],
   "source": [
    "import numpy as np\n",
    "import pandas as pd\n",
    "import random\n",
    "from sklearn.svm import OneClassSVM\n",
    "from sklearn.ensemble import IsolationForest"
   ]
  },
  {
   "cell_type": "code",
   "execution_count": 2,
   "metadata": {},
   "outputs": [],
   "source": [
    "data_directory=\"/Users/poetofquality/Nutstore Files/Nutstore/Datasets/semi-conductor-image-classification-first/features\"\n",
    "# train_data = pd.read_csv(data_directory+\"/train_pretrained_resnet50_features.csv\", header = None)\n",
    "train_data = pd.read_csv(\"train_pretrained_resnet50_features.csv\", header = None)"
   ]
  },
  {
   "cell_type": "code",
   "execution_count": 5,
   "metadata": {},
   "outputs": [],
   "source": [
    "# sample_size = 2600\n",
    "# sample_ind = random.sample(range(0,train_data.shape[0]),sample_size);\n",
    "sample_ind=range(0,train_data.shape[0])"
   ]
  },
  {
   "cell_type": "code",
   "execution_count": 6,
   "metadata": {},
   "outputs": [],
   "source": [
    "train_x = np.array(train_data.iloc[sample_ind,2:])"
   ]
  },
  {
   "cell_type": "code",
   "execution_count": 7,
   "metadata": {},
   "outputs": [
    {
     "name": "stderr",
     "output_type": "stream",
     "text": [
      "/usr/local/lib/python3.7/site-packages/sklearn/ensemble/iforest.py:247: FutureWarning: behaviour=\"old\" is deprecated and will be removed in version 0.22. Please use behaviour=\"new\", which makes the decision_function change to match other anomaly detection algorithm API.\n",
      "  FutureWarning)\n"
     ]
    }
   ],
   "source": [
    "iforest = IsolationForest(random_state=0,contamination=0.01).fit(train_x)"
   ]
  },
  {
   "cell_type": "code",
   "execution_count": 8,
   "metadata": {},
   "outputs": [
    {
     "name": "stderr",
     "output_type": "stream",
     "text": [
      "/usr/local/lib/python3.7/site-packages/sklearn/ensemble/iforest.py:415: DeprecationWarning: threshold_ attribute is deprecated in 0.20 and will be removed in 0.22.\n",
      "  \" be removed in 0.22.\", DeprecationWarning)\n"
     ]
    }
   ],
   "source": [
    "res_if = iforest.predict(train_x)"
   ]
  },
  {
   "cell_type": "code",
   "execution_count": 9,
   "metadata": {},
   "outputs": [
    {
     "data": {
      "text/plain": [
       "(array([-1,  1]), array([  270, 26697]))"
      ]
     },
     "execution_count": 9,
     "metadata": {},
     "output_type": "execute_result"
    }
   ],
   "source": [
    "np.unique(res_if, return_counts=True)"
   ]
  },
  {
   "cell_type": "code",
   "execution_count": 22,
   "metadata": {},
   "outputs": [],
   "source": [
    "norm_if_ind = np.where(res_if==1)"
   ]
  },
  {
   "cell_type": "code",
   "execution_count": 11,
   "metadata": {},
   "outputs": [],
   "source": [
    "np.savetxt(\"norm_if_ind_1percent.csv\", norm_if_ind)"
   ]
  },
  {
   "cell_type": "code",
   "execution_count": 12,
   "metadata": {},
   "outputs": [
    {
     "name": "stderr",
     "output_type": "stream",
     "text": [
      "/usr/local/lib/python3.7/site-packages/sklearn/svm/base.py:193: FutureWarning: The default value of gamma will change from 'auto' to 'scale' in version 0.22 to account better for unscaled features. Set gamma explicitly to 'auto' or 'scale' to avoid this warning.\n",
      "  \"avoid this warning.\", FutureWarning)\n"
     ]
    }
   ],
   "source": [
    "ocsvm = OneClassSVM(nu=0.01).fit(train_x)"
   ]
  },
  {
   "cell_type": "code",
   "execution_count": 13,
   "metadata": {},
   "outputs": [],
   "source": [
    "res = ocsvm.predict(train_x)"
   ]
  },
  {
   "cell_type": "code",
   "execution_count": 14,
   "metadata": {},
   "outputs": [
    {
     "data": {
      "text/plain": [
       "(array([-1,  1]), array([  270, 26697]))"
      ]
     },
     "execution_count": 14,
     "metadata": {},
     "output_type": "execute_result"
    }
   ],
   "source": [
    "np.unique(res, return_counts=True)"
   ]
  },
  {
   "cell_type": "code",
   "execution_count": 15,
   "metadata": {},
   "outputs": [],
   "source": [
    "norm_ind = np.where(res==1)"
   ]
  },
  {
   "cell_type": "code",
   "execution_count": 19,
   "metadata": {},
   "outputs": [],
   "source": [
    "np.savetxt(\"norm_ind_1percent.csv\", norm_ind)"
   ]
  },
  {
   "cell_type": "code",
   "execution_count": 36,
   "metadata": {},
   "outputs": [],
   "source": [
    "outlier_if_ind = np.where(res_if==-1)\n",
    "outlier_ind = np.where(res==-1)"
   ]
  },
  {
   "cell_type": "code",
   "execution_count": 37,
   "metadata": {},
   "outputs": [],
   "source": [
    "np.savetxt(\"outlier_if_ind.csv\", outlier_if_ind)\n",
    "np.savetxt(\"outlier_ind.csv\", outlier_ind)"
   ]
  },
  {
   "cell_type": "code",
   "execution_count": 35,
   "metadata": {},
   "outputs": [
    {
     "data": {
      "text/plain": [
       "(array([   29,    64,   110,   112,   381,   428,   553,   570,   637,\n",
       "          645,   815,   949,  1026,  1095,  1251,  1298,  1417,  1593,\n",
       "         1597,  1721,  1725,  1750,  1853,  1861,  1926,  2108,  2238,\n",
       "         2434,  2557,  2575,  2581,  2597,  2673,  2821,  2981,  3061,\n",
       "         3156,  3261,  3279,  3366,  3545,  3674,  3702,  3759,  3768,\n",
       "         3855,  3884,  4017,  4059,  4101,  4538,  4563,  4635,  4737,\n",
       "         5071,  5097,  5285,  5327,  5328,  5470,  5616,  5630,  6328,\n",
       "         6437,  6506,  6515,  6912,  6931,  6958,  7005,  7139,  7260,\n",
       "         7311,  7382,  7519,  7529,  7582,  7615,  7738,  7816,  7919,\n",
       "         7952,  8135,  8303,  8367,  8369,  8478,  8571,  8585,  8588,\n",
       "         9163,  9164,  9182,  9400,  9449,  9493,  9535,  9652,  9849,\n",
       "         9852, 10051, 10108, 10138, 10308, 10331, 10535, 10545, 10561,\n",
       "        10822, 10936, 10996, 11106, 11254, 11295, 11328, 11386, 11683,\n",
       "        11921, 11925, 11943, 12012, 12161, 12203, 12343, 12375, 12421,\n",
       "        12484, 12607, 13018, 13046, 13170, 13200, 13284, 13386, 13490,\n",
       "        13554, 13622, 13904, 13956, 14123, 14203, 14213, 14275, 14289,\n",
       "        14337, 14350, 14417, 14430, 14596, 14601, 14728, 14768, 14819,\n",
       "        15084, 15239, 15244, 15324, 15452, 15499, 15545, 15597, 15669,\n",
       "        15869, 16378, 16495, 16584, 16616, 16871, 16890, 16991, 17077,\n",
       "        17275, 17433, 17515, 17851, 17956, 18094, 18194, 18258, 18381,\n",
       "        18447, 18507, 18574, 18781, 18826, 18844, 19061, 19145, 19163,\n",
       "        19220, 19305, 19346, 19363, 19448, 19582, 19635, 19694, 19780,\n",
       "        19949, 20100, 20201, 20281, 20381, 20467, 20471, 20505, 20552,\n",
       "        20578, 20801, 20916, 21026, 21064, 21107, 21249, 21386, 21527,\n",
       "        21599, 21606, 21637, 21770, 21910, 21942, 21960, 21980, 22054,\n",
       "        22149, 22264, 22485, 22488, 22824, 22970, 23058, 23061, 23171,\n",
       "        23180, 23206, 23249, 23255, 23364, 23620, 23805, 23992, 24073,\n",
       "        24128, 24159, 24253, 24259, 24348, 24417, 24477, 24526, 24570,\n",
       "        24600, 24682, 24889, 25106, 25253, 25438, 25864, 25954, 25969,\n",
       "        26044, 26318, 26388, 26422, 26454, 26685, 26708, 26725, 26907]),)"
      ]
     },
     "execution_count": 35,
     "metadata": {},
     "output_type": "execute_result"
    }
   ],
   "source": []
  },
  {
   "cell_type": "code",
   "execution_count": null,
   "metadata": {},
   "outputs": [],
   "source": []
  }
 ],
 "metadata": {
  "kernelspec": {
   "display_name": "Python 3",
   "language": "python",
   "name": "python3"
  },
  "language_info": {
   "codemirror_mode": {
    "name": "ipython",
    "version": 3
   },
   "file_extension": ".py",
   "mimetype": "text/x-python",
   "name": "python",
   "nbconvert_exporter": "python",
   "pygments_lexer": "ipython3",
   "version": "3.7.3"
  }
 },
 "nbformat": 4,
 "nbformat_minor": 2
}
